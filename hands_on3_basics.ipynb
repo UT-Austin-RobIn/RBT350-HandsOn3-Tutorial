{
 "cells": [
  {
   "cell_type": "markdown",
   "id": "3cf50671-5231-47be-bc97-4a445f08074c",
   "metadata": {},
   "source": [
    "# RBT350 Hands-On3 Tutorial\n",
    "\n",
    "Prequisites: Miniconda Environment, Jupyter Notebook\n",
    "\n",
    "Goals of the tutorial:\n",
    "1. Variables, python data types, functions, and arguments\n",
    "2. Python packages and import statements\n",
    "3. Numpy\n",
    "4. Debugging"
   ]
  },
  {
   "cell_type": "markdown",
   "id": "ef5fc4fd-c41f-4f8c-8161-9965acda2f1c",
   "metadata": {},
   "source": [
    "## Python\n",
    "\n",
    "What is python?\n",
    "\n",
    "- Python is an interpreted, high-level programming language with dynamic semantics.\n",
    "  - Source code is not directly compiled into machine code before it is run, instead it is executed line by line by an interpreter.\n",
    "  - Python is dynamically typed, which means that variable types (integer, string, floating point) are determined at runtime.\n",
    "\n",
    "Why use python?\n",
    "\n",
    "- User-friendly syntax, rapid development, fewer lines of code.\n"
   ]
  },
  {
   "cell_type": "markdown",
   "id": "f470b5c4-40fc-40ee-b34e-bb4074fc6e69",
   "metadata": {
    "jp-MarkdownHeadingCollapsed": true
   },
   "source": [
    "## Printing in Python"
   ]
  },
  {
   "cell_type": "code",
   "execution_count": 12,
   "id": "68a71022-091d-498b-9a57-3e582192396a",
   "metadata": {},
   "outputs": [
    {
     "name": "stdout",
     "output_type": "stream",
     "text": [
      "Hello World!\n"
     ]
    }
   ],
   "source": [
    "print(\"Hello World!\")"
   ]
  },
  {
   "cell_type": "markdown",
   "id": "29889ce6-964b-44b8-9022-2147d9d37d9c",
   "metadata": {
    "jp-MarkdownHeadingCollapsed": true
   },
   "source": [
    "## Variables\n",
    "\n",
    "Python allows you to store, manipulate, and retrieve information in your code. Basic operations include arithmetic operations and string manipulation, which are essential for performing calculations and working with text data."
   ]
  },
  {
   "cell_type": "code",
   "execution_count": 25,
   "id": "2b33a835-6580-494a-96a8-92bd12e1f2e3",
   "metadata": {},
   "outputs": [],
   "source": [
    "# Here name, roll_no are variables to which we can assign values.\n",
    "# The type of variable is determined during execution.\n",
    "name = \"RBT350\"\n",
    "roll_no = 350"
   ]
  },
  {
   "cell_type": "code",
   "execution_count": 26,
   "id": "54be3efa-be6b-421b-945b-152b0798e4af",
   "metadata": {},
   "outputs": [
    {
     "name": "stdout",
     "output_type": "stream",
     "text": [
      "Name: RBT350\n",
      "Roll Number: 350\n",
      "Name: Gateway to Robotics\n"
     ]
    }
   ],
   "source": [
    "# Printing variables\n",
    "print(\"Name:\", name)\n",
    "print(\"Roll Number:\", roll_no)\n",
    "\n",
    "name = \"Gateway to Robotics\"\n",
    "print(\"Name:\", name)"
   ]
  },
  {
   "cell_type": "code",
   "execution_count": 27,
   "id": "8ed68ad7-8071-4477-ab9b-9a6e41a9ab25",
   "metadata": {},
   "outputs": [
    {
     "name": "stdout",
     "output_type": "stream",
     "text": [
      "5.7\n",
      "Hi Everyone!\n"
     ]
    }
   ],
   "source": [
    "a = 2\n",
    "b = 3.7\n",
    "c = a + b\n",
    "print(c)\n",
    "\n",
    "a = \"Hi\"\n",
    "b = \" Everyone!\"\n",
    "print(a+b)"
   ]
  },
  {
   "cell_type": "markdown",
   "id": "fc2d432a-9583-4cae-9a0b-a00fd4cce47c",
   "metadata": {
    "jp-MarkdownHeadingCollapsed": true
   },
   "source": [
    "### More examples of python operations"
   ]
  },
  {
   "cell_type": "code",
   "execution_count": 16,
   "id": "f303505e-0de3-4426-b86f-23eabb21003a",
   "metadata": {},
   "outputs": [],
   "source": [
    "# Variables and Assignments:\n",
    "name = \"Alice\"  # A string variable\n",
    "age = 30        # An integer variable\n",
    "height = 5.7    # A float variable\n",
    "\n",
    "# Arithmetic Operations:\n",
    "x = 10\n",
    "y = 5\n",
    "\n",
    "addition = x + y          # 10 + 5 = 15\n",
    "subtraction = x - y       # 10 - 5 = 5\n",
    "multiplication = x * y    # 10 * 5 = 50\n",
    "division = x / y          # 10 / 5 = 2.0 (float result)\n",
    "integer_division = x // y  # 10 // 5 = 2 (integer result)\n",
    "modulo = x % y            # 10 % 5 = 0\n",
    "exponentiation = x ** y   # 10^5 = 100000\n",
    "\n",
    "# String Manipulation:\n",
    "greeting = \"Hello, \" + name  # Concatenation\n",
    "repeated = name * 3         # Repeating \"Alice\" three times\n",
    "length = len(name)          # Length of the string\n",
    "uppercase = name.upper()    # Convert to uppercase\n",
    "lowercase = name.lower()    # Convert to lowercase\n",
    "\n",
    "# Comparison Operators:\n",
    "is_equal = x == y        # False\n",
    "is_not_equal = x != y    # True\n",
    "is_greater = x > y       # True\n",
    "is_less = x < y          # False\n",
    "is_greater_equal = x >= y  # True\n",
    "is_less_equal = x <= y    # False\n",
    "\n",
    "# Logical Operations:\n",
    "logical_and = True and False  # False\n",
    "logical_or = True or False    # True\n",
    "logical_not = not True        # False\n",
    "\n",
    "# Type Conversion:\n",
    "num_str = \"42\"\n",
    "int_num = int(num_str)      # Convert string to integer\n",
    "float_num = float(num_str)  # Convert string to float\n",
    "str_num = str(x)            # Convert integer to string"
   ]
  },
  {
   "cell_type": "markdown",
   "id": "1191d656-0e25-4da4-9a16-7260dbc246d7",
   "metadata": {
    "jp-MarkdownHeadingCollapsed": true
   },
   "source": [
    "## Data Types\n",
    "\n",
    "Data types in Python define the kind of data that can be stored and manipulated. They are essential for organizing, processing, and representing different types of information in your programs."
   ]
  },
  {
   "cell_type": "code",
   "execution_count": 30,
   "id": "89d08f61-85c3-4d52-af1d-f6d0760df62e",
   "metadata": {},
   "outputs": [
    {
     "name": "stdout",
     "output_type": "stream",
     "text": [
      "<class 'int'>\n"
     ]
    }
   ],
   "source": [
    "# Common Data Types: (Dynamically allocated data types)\n",
    "number = 42                   # Integer\n",
    "floating = 3.14               # Float\n",
    "truth = True                  # Boolean\n",
    "empty = None                  # NoneType\n",
    "\n",
    "# Check Data Type:\n",
    "type_name = type(number)  # Get the data type's name\n",
    "print(type_name)          # Output: 'int'"
   ]
  },
  {
   "cell_type": "code",
   "execution_count": 31,
   "id": "90e48ad0-25c0-4c67-bcf3-d3ea73814e39",
   "metadata": {},
   "outputs": [
    {
     "name": "stdout",
     "output_type": "stream",
     "text": [
      "['apple', 'banana', 'cherry']\n"
     ]
    }
   ],
   "source": [
    "# Lists (Mutable Sequence):\n",
    "# A list is an ordered collection of items that can contain different data types.\n",
    "fruits = [\"apple\", \"banana\", \"cherry\"]\n",
    "print(fruits)\n",
    "\n",
    "# Accessing List Elements:\n",
    "first_fruit = fruits[0]        # Indexing starts at 0\n",
    "last_fruit = fruits[-1]        # Negative indexing from the end\n",
    "subset = fruits[1:3]           # Slicing returns a new list: ['banana', 'cherry']\n",
    "\n",
    "# Modifying Lists:\n",
    "fruits.append(\"date\")         # Add an item to the end\n",
    "fruits[1] = \"grape\"           # Modify an item\n",
    "fruits.remove(\"apple\")        # Remove an item\n",
    "popped_fruit = fruits.pop()   # Remove and return the last item"
   ]
  },
  {
   "cell_type": "code",
   "execution_count": null,
   "id": "fffff9ee-998b-481b-8636-5e59967d6e7c",
   "metadata": {},
   "outputs": [],
   "source": [
    "# Dictionaries (Key-Value Pairs):\n",
    "# A dictionary is an unordered collection of key-value pairs.\n",
    "person = {\"name\": \"Alice\", \"age\": 30, \"city\": \"New York\"}\n",
    "print(person)                 # Output: {'name': 'Alice', 'age': 30, 'city': 'New York'}\n",
    "\n",
    "# Accessing Dictionary Values:\n",
    "name = person[\"name\"]         # Access a value by key\n",
    "age = person.get(\"age\")       # Safely get a value\n",
    "city = person.get(\"city\", \"Unknown\")  # Provide a default value\n",
    "\n",
    "# Modifying Dictionaries:\n",
    "person[\"age\"] = 31            # Modify a value\n",
    "person[\"job\"] = \"Engineer\"    # Add a new key-value pair\n",
    "del person[\"city\"]            # Delete a key-value pair"
   ]
  },
  {
   "cell_type": "markdown",
   "id": "52513980-d819-46a3-8551-6f0fe09e64d1",
   "metadata": {
    "jp-MarkdownHeadingCollapsed": true
   },
   "source": [
    "## Functions and Arguments\n",
    "Functions in Python are blocks of code that perform a specific task and can be reused throughout your program. They help you organize and modularize your code, making it more readable and maintainable."
   ]
  },
  {
   "cell_type": "code",
   "execution_count": 19,
   "id": "386d41b1-c039-4118-9566-d8934cbfcf34",
   "metadata": {},
   "outputs": [
    {
     "name": "stdout",
     "output_type": "stream",
     "text": [
      "Hello, Rutav!\n",
      "Hello, Ruchira!\n",
      "Hello, Rutav and Ruchira!\n"
     ]
    }
   ],
   "source": [
    "# Name is argument to the function greet\n",
    "def greet(name):\n",
    "    \"\"\"This function greets the person passed in as a parameter.\"\"\"\n",
    "    print(f\"Hello, {name}!\")\n",
    "\n",
    "greet(\"Rutav\")\n",
    "greet(\"Ruchira\")\n",
    "greet(\"Rutav and Ruchira\")"
   ]
  },
  {
   "cell_type": "code",
   "execution_count": 20,
   "id": "d7f8d559-0fcd-4b46-9880-f83855fbbd35",
   "metadata": {},
   "outputs": [
    {
     "name": "stdout",
     "output_type": "stream",
     "text": [
      "First name: Ruchira, Last name: Rutav\n"
     ]
    }
   ],
   "source": [
    "# Multiple arguments:\n",
    "def introduce(first_name, last_name):\n",
    "    \"\"\"This function introduces a person with keyword arguments.\"\"\"\n",
    "    print(f\"First name: {first_name}, Last name: {last_name}\")\n",
    "\n",
    "introduce(last_name=\"Rutav\", first_name=\"Ruchira\")"
   ]
  },
  {
   "cell_type": "code",
   "execution_count": 22,
   "id": "81f4be07-c315-4e68-bf07-af95400e74d4",
   "metadata": {},
   "outputs": [
    {
     "name": "stdout",
     "output_type": "stream",
     "text": [
      "14\n"
     ]
    }
   ],
   "source": [
    "# Variable-length arguments (*args):\n",
    "def calculate_sum(*args):\n",
    "    \"\"\"This function calculates the sum of variable-length arguments.\"\"\"\n",
    "    total = 0\n",
    "    for num in args:\n",
    "        total += num\n",
    "    return total\n",
    "\n",
    "sum = calculate_sum(2,3,4,5)\n",
    "print(sum)"
   ]
  },
  {
   "cell_type": "markdown",
   "id": "508a35fc-500b-4643-ae7d-9c4397596367",
   "metadata": {
    "jp-MarkdownHeadingCollapsed": true
   },
   "source": [
    "## Python Packages and Import Statements\n",
    "\n",
    "Python packages are a way to organize and manage modules, which are reusable pieces of code. Import statements are used to access modules and packages in your Python programs."
   ]
  },
  {
   "cell_type": "markdown",
   "id": "6a478b41-412d-4353-a04b-43eafb5c95f8",
   "metadata": {
    "jp-MarkdownHeadingCollapsed": true
   },
   "source": [
    "### User-defined modules\n",
    "Python provide a way to reuse, and simplify code, improves modularity and maintainability."
   ]
  },
  {
   "cell_type": "code",
   "execution_count": 36,
   "id": "e8a0aaeb-7212-4fe9-90e6-e3624e4c39e0",
   "metadata": {},
   "outputs": [
    {
     "name": "stdout",
     "output_type": "stream",
     "text": [
      "14\n"
     ]
    }
   ],
   "source": [
    "## mymodule.py is in the same directory.\n",
    "from mymodule import calculate_sum\n",
    "\n",
    "sum = calculate_sum(2,3,4,5)\n",
    "print(sum)"
   ]
  },
  {
   "cell_type": "code",
   "execution_count": 37,
   "id": "fa94a11f-276a-4f7e-b0a7-cbf830d98f33",
   "metadata": {},
   "outputs": [
    {
     "name": "stdout",
     "output_type": "stream",
     "text": [
      "14\n"
     ]
    }
   ],
   "source": [
    "import mymodule\n",
    "\n",
    "sum = mymodule.calculate_sum(2,3,4,5)\n",
    "print(sum)"
   ]
  },
  {
   "cell_type": "markdown",
   "id": "8335a811-afcb-4286-88cc-bb40bd112c31",
   "metadata": {
    "jp-MarkdownHeadingCollapsed": true
   },
   "source": [
    "### Prepackged modules\n",
    "Prepackaged modules in Python are incredibly useful because they provide a vast library of pre-built, tested, and optimized functionality, saving developers time and effort."
   ]
  },
  {
   "cell_type": "code",
   "execution_count": 38,
   "id": "74f4c979-861d-4ceb-9a2d-2bac1ac8f8fd",
   "metadata": {},
   "outputs": [
    {
     "name": "stdout",
     "output_type": "stream",
     "text": [
      "4.0\n"
     ]
    }
   ],
   "source": [
    "# Import a module where math is a package provided by python (in-built).\n",
    "import math\n",
    "\n",
    "# Use functions from the math module\n",
    "x = math.sqrt(16)  # Square root function\n",
    "print(x)          # Output: 4.0"
   ]
  },
  {
   "cell_type": "code",
   "execution_count": 39,
   "id": "2020204c-a348-4e5c-a3bd-5357f9bd3c66",
   "metadata": {},
   "outputs": [
    {
     "name": "stdout",
     "output_type": "stream",
     "text": [
      "Pitch: 90.0 degrees\n",
      "Roll: 90.0 degrees\n",
      "Yaw: 0.0 degrees\n"
     ]
    }
   ],
   "source": [
    "import math\n",
    "# Define a quaternion (as w, x, y, z components)\n",
    "quaternion = (0.5, 0.5, 0.5, 0.5)\n",
    "# Extract individual components\n",
    "w, x, y, z = quaternion\n",
    "\n",
    "# Calculate pitch (x-axis rotation)\n",
    "pitch = math.atan2(2 * (w * x + y * z), 1 - 2 * (x * x + y * y))\n",
    "# Calculate roll (z-axis rotation)\n",
    "roll = math.atan2(2 * (w * z + x * y), 1 - 2 * (y * y + z * z))\n",
    "# Calculate yaw (y-axis rotation)\n",
    "yaw = math.asin(2 * (w * y - x * z))\n",
    "\n",
    "# Convert radians to degrees if needed\n",
    "pitch_degrees = math.degrees(pitch)\n",
    "roll_degrees = math.degrees(roll)\n",
    "yaw_degrees = math.degrees(yaw)\n",
    "print(f\"Pitch: {pitch_degrees} degrees\")\n",
    "print(f\"Roll: {roll_degrees} degrees\")\n",
    "print(f\"Yaw: {yaw_degrees} degrees\")"
   ]
  },
  {
   "cell_type": "markdown",
   "id": "9bc09bf9-cf82-4746-9858-f531f160bf19",
   "metadata": {},
   "source": [
    "### Installing Packages in Python\n",
    "Numpy, Scipy, and Matplotlib\n",
    "\n",
    "- **NumPy**: NumPy is a Python library for numerical operations and array manipulation.\n",
    "- **SciPy**: SciPy is a Python library that extends NumPy with additional scientific and engineering functions.\n",
    "- **Matplotlib**: Matplotlib is a Python library for creating diverse types of plots and charts.\n",
    "\n",
    "`pip install numpy,scipy,matplotlib`  "
   ]
  },
  {
   "cell_type": "code",
   "execution_count": null,
   "id": "273464f5-e523-4a0f-a8da-0bd81df4ec5b",
   "metadata": {},
   "outputs": [],
   "source": []
  },
  {
   "cell_type": "code",
   "execution_count": 44,
   "id": "362700eb-532b-446b-a381-4ccee5273ed7",
   "metadata": {},
   "outputs": [
    {
     "name": "stdout",
     "output_type": "stream",
     "text": [
      "Rotation Matrix:\n",
      "[[0. 0. 1.]\n",
      " [1. 0. 0.]\n",
      " [0. 1. 0.]]\n"
     ]
    }
   ],
   "source": [
    "import numpy as np\n",
    "from scipy.spatial.transform import Rotation\n",
    "\n",
    "# Define a quaternion (as w, x, y, z components)\n",
    "quaternion = np.array([0.5, 0.5, 0.5, 0.5])\n",
    "\n",
    "# Create a Rotation object from the quaternion\n",
    "rotation = Rotation.from_quat(quaternion)\n",
    "\n",
    "# Get the rotation matrix\n",
    "rotation_matrix = rotation.as_matrix()\n",
    "\n",
    "print(\"Rotation Matrix:\")\n",
    "print(rotation_matrix)"
   ]
  },
  {
   "cell_type": "code",
   "execution_count": 8,
   "id": "10b97efd-0746-44fd-8dfb-68bdfd5596d7",
   "metadata": {},
   "outputs": [
    {
     "data": {
      "image/png": "[encoded data removed]",
      "text/plain": [
       "<Figure size 640x480 with 1 Axes>"
      ]
     },
     "metadata": {},
     "output_type": "display_data"
    }
   ],
   "source": [
    "import numpy as np\n",
    "import matplotlib.pyplot as plt\n",
    "\n",
    "# Create some data points\n",
    "x = [1, 2, 3, 4, 5]\n",
    "y = [2, 4, 1, 3, 5]\n",
    "\n",
    "x2 = np.array(x) + 2\n",
    "y2 = np.array(y) - 2\n",
    "x2 = x2.tolist()\n",
    "y2 = y2.tolist()\n",
    "\n",
    "# Create a scatter plot\n",
    "plt.scatter(x, y, label=\"X,Y\", color=\"b\", marker=\"o\")\n",
    "plt.scatter(x2, y2, label=\"X2, Y2\", color=\"r\", marker=\"x\")\n",
    "\n",
    "# Add labels and a legend\n",
    "plt.xlabel(\"X-axis\")\n",
    "plt.ylabel(\"Y-axis\")\n",
    "plt.title(\"Scatter Plot Example\")\n",
    "plt.legend()\n",
    "\n",
    "# Display the plot\n",
    "plt.show()"
   ]
  },
  {
   "cell_type": "markdown",
   "id": "fe34595f-5505-4761-80e1-b3374e53cc08",
   "metadata": {
    "jp-MarkdownHeadingCollapsed": true
   },
   "source": [
    "## More about Numpy"
   ]
  },
  {
   "cell_type": "markdown",
   "id": "878208e2-18ff-4c4c-8d07-a8a4106d06e9",
   "metadata": {
    "jp-MarkdownHeadingCollapsed": true
   },
   "source": [
    "### Initialization of Arrays"
   ]
  },
  {
   "cell_type": "code",
   "execution_count": 45,
   "id": "3410ba18-62b0-4bd9-bb4e-786cd47b17fa",
   "metadata": {},
   "outputs": [
    {
     "name": "stdout",
     "output_type": "stream",
     "text": [
      "Array from Python List:\n",
      "[1 2 3 4 5]\n",
      "Zeros Array:\n",
      "[[0. 0. 0. 0.]\n",
      " [0. 0. 0. 0.]\n",
      " [0. 0. 0. 0.]]\n",
      "Identity Matrix:\n",
      "[[1. 0. 0. 0.]\n",
      " [0. 1. 0. 0.]\n",
      " [0. 0. 1. 0.]\n",
      " [0. 0. 0. 1.]]\n"
     ]
    }
   ],
   "source": [
    "# Creating a NumPy array from a Python list\n",
    "python_list = [1, 2, 3, 4, 5]\n",
    "array_from_list = np.array(python_list)\n",
    "print(\"Array from Python List:\")\n",
    "print(array_from_list)\n",
    "\n",
    "# Creating a 3x4 array filled with zeros\n",
    "zeros_array = np.zeros((3, 4))\n",
    "print(\"Zeros Array:\")\n",
    "print(zeros_array)\n",
    "\n",
    "# Creating a 4x4 identity matrix\n",
    "identity_matrix = np.eye(4)\n",
    "print(\"Identity Matrix:\")\n",
    "print(identity_matrix)"
   ]
  },
  {
   "cell_type": "markdown",
   "id": "1b64aaff-8df1-4457-804a-9b3c85fc28fb",
   "metadata": {
    "jp-MarkdownHeadingCollapsed": true
   },
   "source": [
    "### Shape and Reshaping"
   ]
  },
  {
   "cell_type": "code",
   "execution_count": 34,
   "id": "788bc57b-2982-4163-9912-6cced3ea89a5",
   "metadata": {},
   "outputs": [
    {
     "name": "stdout",
     "output_type": "stream",
     "text": [
      "Array Shape: (6,)\n",
      "==================================\n",
      "Reshaped arr:\n",
      "[[1 2 3]\n",
      " [4 5 6]]\n",
      "Reshaped Array Shape: (2, 3)\n",
      "==================================\n",
      "Transpose of Array:\n",
      " [[1 4]\n",
      " [2 5]\n",
      " [3 6]]\n",
      "Transposed Array Shape: (3, 2)\n"
     ]
    }
   ],
   "source": [
    "import numpy as np\n",
    "\n",
    "# Creating a NumPy array\n",
    "arr = np.array([1, 2, 3, 4, 5, 6])\n",
    "\n",
    "# Getting the shape of the array\n",
    "shape = arr.shape\n",
    "print(\"Array Shape:\", shape)  # Output: (6,)\n",
    "\n",
    "print(\"==================================\")\n",
    "# Reshaping the array to a 2x3 matrix\n",
    "reshaped_arr = arr.reshape(2, 3)\n",
    "print(\"Reshaped arr:\")\n",
    "print(reshaped_arr)\n",
    "print(\"Reshaped Array Shape:\", reshaped_arr.shape)\n",
    "print(\"==================================\")\n",
    "\n",
    "# Taking Transpose of an array\n",
    "transpose_arr = reshaped_arr.T\n",
    "print(\"Transpose of Array:\\n\", transpose_arr)\n",
    "print(\"Transposed Array Shape:\", transpose_arr.shape)"
   ]
  },
  {
   "cell_type": "markdown",
   "id": "8688e8cb-6161-431a-ae2a-00ca3f05e5a1",
   "metadata": {
    "jp-MarkdownHeadingCollapsed": true
   },
   "source": [
    "### Simple Operations in Numpy"
   ]
  },
  {
   "cell_type": "code",
   "execution_count": 38,
   "id": "eae82b18-e1d2-4204-808a-35e453c71b88",
   "metadata": {},
   "outputs": [
    {
     "name": "stdout",
     "output_type": "stream",
     "text": [
      "Addition: [5 7 9]\n",
      "Subtraction: [-3 -3 -3]\n",
      "Broadcasting Addition: [3 4 5]\n"
     ]
    }
   ],
   "source": [
    "# Creating two NumPy arrays\n",
    "arr1 = np.array([1, 2, 3])\n",
    "arr2 = np.array([4, 5, 6])\n",
    "\n",
    "# Element-wise addition\n",
    "addition = arr1 + arr2\n",
    "\n",
    "# Element-wise subtraction\n",
    "subtraction = arr1 - arr2\n",
    "\n",
    "print(\"Addition:\", addition)  # Output: [5 7 9]\n",
    "print(\"Subtraction:\", subtraction)  # Output: [-3 -3 -3]\n",
    "\n",
    "# Broadcasting - adding a scalar to an array\n",
    "scalar = 2\n",
    "result = arr1 + scalar\n",
    "print(\"Broadcasting Addition:\", result)  # Output: [3 4 5]"
   ]
  },
  {
   "cell_type": "code",
   "execution_count": 39,
   "id": "0b9257ac-39f8-4349-b949-5f492bb47ecf",
   "metadata": {},
   "outputs": [
    {
     "name": "stdout",
     "output_type": "stream",
     "text": [
      "Matrix1:\n",
      "[[1 2]\n",
      " [3 4]]\n",
      "Matrix2:\n",
      "[[5 6]\n",
      " [7 8]]\n",
      "Matrix Multiplication Result:\n",
      "[[19 22]\n",
      " [43 50]]\n",
      "Element-wise Matrix Multiplication Result:\n",
      "[[ 5 12]\n",
      " [21 32]]\n"
     ]
    }
   ],
   "source": [
    "# Creating two matrices\n",
    "matrix1 = np.array([[1, 2], [3, 4]])\n",
    "matrix2 = np.array([[5, 6], [7, 8]])\n",
    "\n",
    "print(\"Matrix1:\")\n",
    "print(matrix1)\n",
    "print(\"Matrix2:\")\n",
    "print(matrix2)\n",
    "\n",
    "# Matrix multiplication using np.dot\n",
    "matrix_multiplication_result = np.dot(matrix1, matrix2)\n",
    "print(\"Matrix Multiplication Result:\")\n",
    "print(matrix_multiplication_result)\n",
    "\n",
    "# Element-wise matrix multiplication\n",
    "elementwise_multiplication_result = matrix1 * matrix2\n",
    "print(\"Element-wise Matrix Multiplication Result:\")\n",
    "print(elementwise_multiplication_result)"
   ]
  },
  {
   "cell_type": "markdown",
   "id": "8d4c0450-6270-44cb-ad33-36cfb8ec80bc",
   "metadata": {
    "jp-MarkdownHeadingCollapsed": true
   },
   "source": [
    "### Broadcasting"
   ]
  },
  {
   "cell_type": "code",
   "execution_count": 41,
   "id": "2e373e84-99d4-476f-ab16-f139802c32ad",
   "metadata": {},
   "outputs": [
    {
     "name": "stdout",
     "output_type": "stream",
     "text": [
      "Broadcasting Addition: [3 4 5]\n",
      "\n",
      "Array 1:\n",
      "[[1 2 3]\n",
      " [4 5 6]]\n",
      "Array 2:\n",
      "[[10]\n",
      " [20]]\n",
      "Broadcasting Addition Result:\n",
      "[[11 12 13]\n",
      " [24 25 26]]\n"
     ]
    }
   ],
   "source": [
    "# Creating two NumPy arrays\n",
    "arr1 = np.array([1, 2, 3])\n",
    "\n",
    "# Broadcasting - adding a scalar to an array\n",
    "scalar = 2\n",
    "result = arr1 + scalar\n",
    "print(\"Broadcasting Addition:\", result)  # Output: [3 4 5]\n",
    "print()\n",
    "# Creating a (2, 3) array\n",
    "array1 = np.array([[1, 2, 3], [4, 5, 6]])\n",
    "print(\"Array 1:\")\n",
    "print(array1)\n",
    "\n",
    "# Creating a (2, 1) array\n",
    "array2 = np.array([[10], [20]])\n",
    "print(\"Array 2:\")\n",
    "print(array2)\n",
    "\n",
    "# Broadcasting - adding the (2, 1) array to the (2, 3) array\n",
    "result = array1 + array2\n",
    "print(\"Broadcasting Addition Result:\")\n",
    "print(result)"
   ]
  },
  {
   "cell_type": "code",
   "execution_count": 43,
   "id": "a8b0ba21-814a-4b41-aa4e-78f63ee020cc",
   "metadata": {},
   "outputs": [
    {
     "name": "stdout",
     "output_type": "stream",
     "text": [
      "Array 1:\n",
      "[1 2 3]\n",
      "Array 2:\n",
      "[[4]\n",
      " [5]\n",
      " [6]]\n",
      "Result of Broadcasting:\n",
      "[[5 6 7]\n",
      " [6 7 8]\n",
      " [7 8 9]]\n"
     ]
    }
   ],
   "source": [
    "# Creating two arrays with different shapes\n",
    "arr1 = np.array([1, 2, 3])   # Shape: (3,)\n",
    "arr2 = np.array([4, 5, 6]).reshape(3, 1)  # Shape: (3, 1)\n",
    "\n",
    "# Attempting to add these arrays using broadcasting\n",
    "result = arr1 + arr2 #### PAY ATTENTION!!!\n",
    "\n",
    "print(\"Array 1:\")\n",
    "print(arr1)\n",
    "print(\"Array 2:\")\n",
    "print(arr2)\n",
    "print(\"Result of Broadcasting:\")\n",
    "print(result) "
   ]
  },
  {
   "cell_type": "markdown",
   "id": "b5489475-bd75-44fc-968c-981b43e45cd5",
   "metadata": {
    "jp-MarkdownHeadingCollapsed": true
   },
   "source": [
    "### Indexing and Slicing"
   ]
  },
  {
   "cell_type": "code",
   "execution_count": 46,
   "id": "e5385696-882b-493a-8d2a-78a66726628e",
   "metadata": {},
   "outputs": [
    {
     "name": "stdout",
     "output_type": "stream",
     "text": [
      "Element at index 3: 4\n",
      "Subarray from index 2 to 5: [3 4 5 6]\n"
     ]
    }
   ],
   "source": [
    "# Creating a NumPy array\n",
    "arr = np.array([1, 2, 3, 4, 5, 6, 7, 8, 9])\n",
    "\n",
    "# Indexing to get a single element\n",
    "element = arr[3]  # Get the fourth element (index 3)\n",
    "print(\"Element at index 3:\", element)\n",
    "\n",
    "# Slicing to get a subarray\n",
    "subarray = arr[2:6]  # Get elements from index 2 to 5 (inclusive)\n",
    "print(\"Subarray from index 2 to 5:\", subarray)"
   ]
  },
  {
   "cell_type": "code",
   "execution_count": 47,
   "id": "2307c762-bdba-4959-89cc-8e330b8a4236",
   "metadata": {},
   "outputs": [
    {
     "name": "stdout",
     "output_type": "stream",
     "text": [
      "Matrix:\n",
      "[[1 2 3]\n",
      " [4 5 6]\n",
      " [7 8 9]]\n",
      "Submatrix:\n",
      "[[2 3]\n",
      " [5 6]]\n"
     ]
    }
   ],
   "source": [
    "# Creating a 2D NumPy array (matrix)\n",
    "matrix = np.array([[1, 2, 3],\n",
    "                  [4, 5, 6],\n",
    "                  [7, 8, 9]])\n",
    "\n",
    "print(\"Matrix:\")\n",
    "print(matrix)\n",
    "\n",
    "# Slicing to extract a submatrix\n",
    "submatrix = matrix[0:2, 1:3]  # Rows 0 to 1, Columns 1 to 2\n",
    "print(\"Submatrix:\")\n",
    "print(submatrix)"
   ]
  },
  {
   "cell_type": "markdown",
   "id": "73c8493f-11bd-44b9-8321-ad70e164b755",
   "metadata": {
    "jp-MarkdownHeadingCollapsed": true
   },
   "source": [
    "## Debugging"
   ]
  },
  {
   "cell_type": "markdown",
   "id": "859a6ac5-b70e-495a-a956-9ebe7ef0ef5e",
   "metadata": {},
   "source": [
    "### Print Statements are the Best!"
   ]
  },
  {
   "cell_type": "code",
   "execution_count": 3,
   "id": "63bf7b28-8acb-46bc-a6ad-c5c6ca73725f",
   "metadata": {},
   "outputs": [
    {
     "name": "stdout",
     "output_type": "stream",
     "text": [
      "Result: 3\n",
      "10 divide by 3 is 3\n"
     ]
    }
   ],
   "source": [
    "def divide(a, b):\n",
    "    result = a // b\n",
    "    print(f\"Result: {result}\")\n",
    "    return result\n",
    "\n",
    "a = 10\n",
    "b = 3\n",
    "result = divide(a, b)\n",
    "print(\"10 divide by 3 is\", result)"
   ]
  },
  {
   "cell_type": "markdown",
   "id": "ff5017bf-bdc1-4aad-b4c8-ecab85752924",
   "metadata": {},
   "source": [
    "### Assert Statements"
   ]
  },
  {
   "cell_type": "code",
   "execution_count": 5,
   "id": "2098ea05-4acb-48f8-8e05-53620fb0f7ac",
   "metadata": {},
   "outputs": [
    {
     "ename": "AssertionError",
     "evalue": "Division by zero",
     "output_type": "error",
     "traceback": [
      "\u001b[0;31m---------------------------------------------------------------------------\u001b[0m",
      "\u001b[0;31mAssertionError\u001b[0m                            Traceback (most recent call last)",
      "Cell \u001b[0;32mIn[5], line 8\u001b[0m\n\u001b[1;32m      6\u001b[0m a \u001b[38;5;241m=\u001b[39m \u001b[38;5;241m10\u001b[39m\n\u001b[1;32m      7\u001b[0m b \u001b[38;5;241m=\u001b[39m \u001b[38;5;241m0\u001b[39m\n\u001b[0;32m----> 8\u001b[0m result \u001b[38;5;241m=\u001b[39m \u001b[43mdivide\u001b[49m\u001b[43m(\u001b[49m\u001b[43ma\u001b[49m\u001b[43m,\u001b[49m\u001b[43m \u001b[49m\u001b[43mb\u001b[49m\u001b[43m)\u001b[49m\n",
      "Cell \u001b[0;32mIn[5], line 2\u001b[0m, in \u001b[0;36mdivide\u001b[0;34m(a, b)\u001b[0m\n\u001b[1;32m      1\u001b[0m \u001b[38;5;28;01mdef\u001b[39;00m \u001b[38;5;21mdivide\u001b[39m(a, b):\n\u001b[0;32m----> 2\u001b[0m     \u001b[38;5;28;01massert\u001b[39;00m b \u001b[38;5;241m!=\u001b[39m \u001b[38;5;241m0\u001b[39m, \u001b[38;5;124m\"\u001b[39m\u001b[38;5;124mDivision by zero\u001b[39m\u001b[38;5;124m\"\u001b[39m\n\u001b[1;32m      3\u001b[0m     result \u001b[38;5;241m=\u001b[39m a \u001b[38;5;241m/\u001b[39m b\n\u001b[1;32m      4\u001b[0m     \u001b[38;5;28;01mreturn\u001b[39;00m result\n",
      "\u001b[0;31mAssertionError\u001b[0m: Division by zero"
     ]
    }
   ],
   "source": [
    "def divide(a, b):\n",
    "    assert b != 0, \"Division by zero\"\n",
    "    result = a / b\n",
    "    return result\n",
    "\n",
    "a = 10\n",
    "b = 0\n",
    "result = divide(a, b)"
   ]
  },
  {
   "cell_type": "markdown",
   "id": "312eecd1-bf86-4be5-bb53-234a49d7dbff",
   "metadata": {},
   "source": [
    "### Checkout pdb.set_trace() and breakpoint() debugging in Python!"
   ]
  }
 ],
 "metadata": {
  "kernelspec": {
   "display_name": "Python 3 (ipykernel)",
   "language": "python",
   "name": "python3"
  },
  "language_info": {
   "codemirror_mode": {
    "name": "ipython",
    "version": 3
   },
   "file_extension": ".py",
   "mimetype": "text/x-python",
   "name": "python",
   "nbconvert_exporter": "python",
   "pygments_lexer": "ipython3",
   "version": "3.11.2"
  }
 },
 "nbformat": 4,
 "nbformat_minor": 5
}
